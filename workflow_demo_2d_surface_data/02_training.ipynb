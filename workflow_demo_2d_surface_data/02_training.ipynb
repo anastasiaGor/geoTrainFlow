{
 "cells": [
  {
   "cell_type": "markdown",
   "id": "236c056a-5f1f-4a9a-adf9-464c5522db0d",
   "metadata": {},
   "source": [
    "# Dask start"
   ]
  },
  {
   "cell_type": "markdown",
   "id": "ad503e0e-07d0-4466-827a-5d1809a6695b",
   "metadata": {},
   "source": [
    "Not to forget to update dask server address:"
   ]
  },
  {
   "cell_type": "code",
   "execution_count": 1,
   "id": "869bb4ef-5770-44a8-b1bd-4e250d1aae60",
   "metadata": {},
   "outputs": [],
   "source": [
    "from dask.distributed import Client\n",
    "\n",
    "client = Client(\"tcp://127.0.0.1:45921\")"
   ]
  },
  {
   "cell_type": "markdown",
   "id": "c36532fb-c2ed-43b3-8bd0-7c1086407d8a",
   "metadata": {
    "tags": []
   },
   "source": [
    "# Import"
   ]
  },
  {
   "cell_type": "code",
   "execution_count": 2,
   "id": "f3e7c993-7683-4c2b-aed5-74556b8b3764",
   "metadata": {},
   "outputs": [],
   "source": [
    "! pip install -q wandb"
   ]
  },
  {
   "cell_type": "code",
   "execution_count": 3,
   "id": "07708f7a-4d51-459b-ac79-fe856c93a8cc",
   "metadata": {},
   "outputs": [],
   "source": [
    "import os\n",
    "import torch\n",
    "import pytorch_lightning as pl\n",
    "import wandb\n",
    "\n",
    "import matplotlib.pyplot as plt"
   ]
  },
  {
   "cell_type": "code",
   "execution_count": 4,
   "id": "210bfbcd-09d9-428a-b49e-e3aac2920577",
   "metadata": {},
   "outputs": [],
   "source": [
    "import sys\n",
    "sys.path.insert(1, '../..')"
   ]
  },
  {
   "cell_type": "code",
   "execution_count": 5,
   "id": "5ac174f6-87d5-4805-ba55-7eef97a115f2",
   "metadata": {},
   "outputs": [],
   "source": [
    "from geoTrainFlow.source.dataModule import DataModule\n",
    "from geoTrainFlow.source.main_training_module import TrainingModule"
   ]
  },
  {
   "cell_type": "code",
   "execution_count": 6,
   "id": "8dcedbc7-9777-49e8-9cdc-25612e15c59c",
   "metadata": {},
   "outputs": [],
   "source": [
    "from geoTrainFlow.source.models.lin_reg import lin_regr_model"
   ]
  },
  {
   "cell_type": "code",
   "execution_count": 7,
   "id": "8d23fce9-db7f-4af5-926b-085a045bc183",
   "metadata": {},
   "outputs": [],
   "source": [
    "import warnings\n",
    "\n",
    "warnings.simplefilter(action='ignore', category=FutureWarning)\n",
    "warnings.filterwarnings(\"ignore\", \".*Consider increasing the value of the `num_workers` argument*\")"
   ]
  },
  {
   "cell_type": "markdown",
   "id": "6c33c792-b54c-46ab-8257-4a3233c69083",
   "metadata": {},
   "source": [
    "# Open data"
   ]
  },
  {
   "cell_type": "code",
   "execution_count": 8,
   "id": "76db4448-d28a-4270-bb64-6de61cd4e044",
   "metadata": {},
   "outputs": [],
   "source": [
    "PERSISTENT_BUCKET = os.environ['PERSISTENT_BUCKET'] "
   ]
  },
  {
   "cell_type": "code",
   "execution_count": 9,
   "id": "30f449a2-50f9-494d-bf4c-77f853392e10",
   "metadata": {},
   "outputs": [],
   "source": [
    "data_dict=[dict() for i in range(6)]\n",
    "data_dict[0] = dict({'region' : '1', 'season' : 'fma', 'label' : 'GULFSTR FMA'})\n",
    "data_dict[1] = dict({'region' : '1', 'season' : 'aso', 'label' : 'GULFSTR ASO'})\n",
    "data_dict[2] = dict({'region' : '2', 'season' : 'fma', 'label' : 'MIDATL FMA'})\n",
    "data_dict[3] = dict({'region' : '2', 'season' : 'aso', 'label' : 'MIDATL ASO'})\n",
    "data_dict[4] = dict({'region' : '3', 'season' : 'fma', 'label' : 'WESTMED FMA'})\n",
    "data_dict[5] = dict({'region' : '3', 'season' : 'aso', 'label' : 'WESTMED ASO'})"
   ]
  },
  {
   "cell_type": "code",
   "execution_count": 10,
   "id": "7aa0e4b6-6c0d-4cce-95c0-223506fa3928",
   "metadata": {},
   "outputs": [],
   "source": [
    "batch_size = 4\n",
    "img_height = 45\n",
    "img_width = 40"
   ]
  },
  {
   "cell_type": "code",
   "execution_count": 11,
   "id": "b42b115b-6c02-4dd4-8e95-4059c37b917b",
   "metadata": {},
   "outputs": [
    {
     "name": "stdout",
     "output_type": "stream",
     "text": [
      "CPU times: user 341 µs, sys: 93 µs, total: 434 µs\n",
      "Wall time: 439 µs\n"
     ]
    }
   ],
   "source": [
    "%%time\n",
    "features_to_add_to_sample = ['temp', 'temp_var', 'rho_ct_ct', 'diff_temp_sqr']\n",
    "auxiliary_features = []\n",
    "all_data_2D = DataModule(PERSISTENT_BUCKET, data_dict, '2D', features_to_add_to_sample, auxiliary_features, \\\n",
    "                         img_height, img_width, batch_size=batch_size, load_data=True)"
   ]
  },
  {
   "cell_type": "markdown",
   "id": "ffe880a0-4c31-44fd-8365-6c7c246b21e0",
   "metadata": {},
   "source": [
    "# Experiment launching routine"
   ]
  },
  {
   "cell_type": "code",
   "execution_count": 12,
   "id": "dd5e2b1d-ec8f-483c-81c5-f89e92818aa4",
   "metadata": {},
   "outputs": [],
   "source": [
    "from pytorch_lightning.callbacks import EarlyStopping, ModelCheckpoint\n",
    "from geoTrainFlow.source.callbacks import LogPredictionsCallback, LogFirstWeightCallback"
   ]
  },
  {
   "cell_type": "code",
   "execution_count": 13,
   "id": "1c71bf7a-9728-4235-a85e-a6c03599113e",
   "metadata": {},
   "outputs": [],
   "source": [
    "def run_experiment(config, project) :\n",
    "    # initialize Weigth&Biases logger\n",
    "    wandb_logger = pl.loggers.WandbLogger(name=config['model_label']+'_'+config['version'], \\\n",
    "                               version=config['model_label']+'_'+config['version'],\\\n",
    "                               project=project, config=config, resume=False, log_model=True, offline=False)\n",
    "    \n",
    "    # initialize the torch NN model according to config\n",
    "    torch_model = eval(config['torch_model'])(**config['torch_model_params'])\n",
    "    # initialize the training module according to experiment param\n",
    "    pylight_module = TrainingModule(torch_model, **config['experiment_params'])\n",
    "    \n",
    "    # Callbacks :\n",
    "    \n",
    "    # save checkpoints\n",
    "    checkpoint_callback = ModelCheckpoint(monitor=\"loss_train\", save_last=True)  \n",
    "    \n",
    "    # stop when the validation loss reaches its min\n",
    "    early_stopping_callback = EarlyStopping(monitor=\"loss_validation\", mode=\"min\")\n",
    "    \n",
    "    # save example snapshots of prediction in W&B logs (for easy visual inspection of predictions)\n",
    "    log_predictions_callback = LogPredictionsCallback(wandb_logger, config['experiment_params']['output_features'][0])\n",
    "    \n",
    "    # log first weight of the model during the training \n",
    "    log_first_weight_callback = LogFirstWeightCallback(wandb_logger)\n",
    "    \n",
    "    # initialize the trained\n",
    "    trainer = pl.Trainer(**config['training_params'], logger=wandb_logger, \n",
    "                     callbacks=[early_stopping_callback, checkpoint_callback,log_predictions_callback,log_first_weight_callback],\n",
    "                     accelerator='gpu', devices=(1 if torch.cuda.is_available() else None))  \n",
    "    \n",
    "    # lauch training\n",
    "    trainer.fit(model = pylight_module, datamodule=eval(config['datamodule']))\n",
    "    \n",
    "    # get predictions \n",
    "    test_datamodule = eval(config['datamodule'])\n",
    "    test_datamodule.setup(stage='test')\n",
    "    trainer.predict(model = pylight_module, dataloaders=test_datamodule.test_dataloader())\n",
    "    # run tests\n",
    "    test_datamodule.setup(stage='test')\n",
    "    trainer.test(model = pylight_module, datamodule=test_datamodule)\n",
    "    \n",
    "    # finalize logger\n",
    "    wandb.finish()"
   ]
  },
  {
   "cell_type": "markdown",
   "id": "bb222872-8f0c-49b1-a4bb-609b91832511",
   "metadata": {},
   "source": [
    "# Runs"
   ]
  },
  {
   "cell_type": "code",
   "execution_count": 14,
   "id": "6dcb94fb-1f4c-44fc-a746-fd938e31bceb",
   "metadata": {},
   "outputs": [],
   "source": [
    "wandb.finish()"
   ]
  },
  {
   "cell_type": "code",
   "execution_count": 15,
   "id": "62aaf6ff-5b20-46a9-833c-a3d7326f87a1",
   "metadata": {},
   "outputs": [],
   "source": [
    "project_name = 'geoTrainFlow'"
   ]
  },
  {
   "cell_type": "code",
   "execution_count": 16,
   "id": "75b0cd12-568c-476e-afdd-07955bd75a77",
   "metadata": {},
   "outputs": [],
   "source": [
    "configs = list()"
   ]
  },
  {
   "cell_type": "markdown",
   "id": "fdb6e82b-a269-45fe-95f0-bad0b35389f3",
   "metadata": {},
   "source": [
    "## Linear regression"
   ]
  },
  {
   "cell_type": "code",
   "execution_count": 17,
   "id": "3cebc87e-7278-4bdf-a1f1-a65f2b48d45a",
   "metadata": {},
   "outputs": [
    {
     "name": "stderr",
     "output_type": "stream",
     "text": [
      "Failed to detect the name of this notebook, you can set it manually with the WANDB_NOTEBOOK_NAME environment variable to enable code saving.\n",
      "\u001b[34m\u001b[1mwandb\u001b[0m: Currently logged in as: \u001b[33managorb63\u001b[0m. Use \u001b[1m`wandb login --relogin`\u001b[0m to force relogin\n"
     ]
    },
    {
     "data": {
      "text/html": [
       "Tracking run with wandb version 0.15.1"
      ],
      "text/plain": [
       "<IPython.core.display.HTML object>"
      ]
     },
     "metadata": {},
     "output_type": "display_data"
    },
    {
     "data": {
      "text/html": [
       "Run data is saved locally in <code>./wandb/run-20230505_114642-LinReg_test</code>"
      ],
      "text/plain": [
       "<IPython.core.display.HTML object>"
      ]
     },
     "metadata": {},
     "output_type": "display_data"
    },
    {
     "data": {
      "text/html": [
       "Syncing run <strong><a href='https://wandb.ai/anagorb63/geoTrainFlow/runs/LinReg_test' target=\"_blank\">LinReg_test</a></strong> to <a href='https://wandb.ai/anagorb63/geoTrainFlow' target=\"_blank\">Weights & Biases</a> (<a href='https://wandb.me/run' target=\"_blank\">docs</a>)<br/>"
      ],
      "text/plain": [
       "<IPython.core.display.HTML object>"
      ]
     },
     "metadata": {},
     "output_type": "display_data"
    },
    {
     "data": {
      "text/html": [
       " View project at <a href='https://wandb.ai/anagorb63/geoTrainFlow' target=\"_blank\">https://wandb.ai/anagorb63/geoTrainFlow</a>"
      ],
      "text/plain": [
       "<IPython.core.display.HTML object>"
      ]
     },
     "metadata": {},
     "output_type": "display_data"
    },
    {
     "data": {
      "text/html": [
       " View run at <a href='https://wandb.ai/anagorb63/geoTrainFlow/runs/LinReg_test' target=\"_blank\">https://wandb.ai/anagorb63/geoTrainFlow/runs/LinReg_test</a>"
      ],
      "text/plain": [
       "<IPython.core.display.HTML object>"
      ]
     },
     "metadata": {},
     "output_type": "display_data"
    },
    {
     "name": "stderr",
     "output_type": "stream",
     "text": [
      "/srv/conda/envs/notebook/lib/python3.10/site-packages/pytorch_lightning/utilities/parsing.py:262: UserWarning: Attribute 'torch_model' is an instance of `nn.Module` and is already saved during checkpointing. It is recommended to ignore them using `self.save_hyperparameters(ignore=['torch_model'])`.\n",
      "  rank_zero_warn(\n",
      "GPU available: True (cuda), used: True\n",
      "TPU available: False, using: 0 TPU cores\n",
      "IPU available: False, using: 0 IPUs\n",
      "HPU available: False, using: 0 HPUs\n",
      "`Trainer(limit_train_batches=1.0)` was configured so 100% of the batches per epoch will be used..\n",
      "/srv/conda/envs/notebook/lib/python3.10/site-packages/pytorch_lightning/callbacks/model_checkpoint.py:604: UserWarning: Checkpoint directory ./geoTrainFlow/LinReg_test/checkpoints exists and is not empty.\n",
      "  rank_zero_warn(f\"Checkpoint directory {dirpath} exists and is not empty.\")\n",
      "LOCAL_RANK: 0 - CUDA_VISIBLE_DEVICES: [0]\n",
      "\n",
      "  | Name        | Type           | Params\n",
      "-----------------------------------------------\n",
      "0 | torch_model | lin_regr_model | 1     \n",
      "-----------------------------------------------\n",
      "1         Trainable params\n",
      "0         Non-trainable params\n",
      "1         Total params\n",
      "0.000     Total estimated model params size (MB)\n"
     ]
    },
    {
     "data": {
      "application/vnd.jupyter.widget-view+json": {
       "model_id": "",
       "version_major": 2,
       "version_minor": 0
      },
      "text/plain": [
       "Sanity Checking: 0it [00:00, ?it/s]"
      ]
     },
     "metadata": {},
     "output_type": "display_data"
    },
    {
     "data": {
      "application/vnd.jupyter.widget-view+json": {
       "model_id": "da227c5510684a619954f03e915251c4",
       "version_major": 2,
       "version_minor": 0
      },
      "text/plain": [
       "Training: 0it [00:00, ?it/s]"
      ]
     },
     "metadata": {},
     "output_type": "display_data"
    },
    {
     "data": {
      "application/vnd.jupyter.widget-view+json": {
       "model_id": "",
       "version_major": 2,
       "version_minor": 0
      },
      "text/plain": [
       "Validation: 0it [00:00, ?it/s]"
      ]
     },
     "metadata": {},
     "output_type": "display_data"
    },
    {
     "data": {
      "application/vnd.jupyter.widget-view+json": {
       "model_id": "",
       "version_major": 2,
       "version_minor": 0
      },
      "text/plain": [
       "Validation: 0it [00:00, ?it/s]"
      ]
     },
     "metadata": {},
     "output_type": "display_data"
    },
    {
     "data": {
      "application/vnd.jupyter.widget-view+json": {
       "model_id": "",
       "version_major": 2,
       "version_minor": 0
      },
      "text/plain": [
       "Validation: 0it [00:00, ?it/s]"
      ]
     },
     "metadata": {},
     "output_type": "display_data"
    },
    {
     "data": {
      "application/vnd.jupyter.widget-view+json": {
       "model_id": "",
       "version_major": 2,
       "version_minor": 0
      },
      "text/plain": [
       "Validation: 0it [00:00, ?it/s]"
      ]
     },
     "metadata": {},
     "output_type": "display_data"
    },
    {
     "data": {
      "application/vnd.jupyter.widget-view+json": {
       "model_id": "",
       "version_major": 2,
       "version_minor": 0
      },
      "text/plain": [
       "Validation: 0it [00:00, ?it/s]"
      ]
     },
     "metadata": {},
     "output_type": "display_data"
    },
    {
     "data": {
      "application/vnd.jupyter.widget-view+json": {
       "model_id": "",
       "version_major": 2,
       "version_minor": 0
      },
      "text/plain": [
       "Validation: 0it [00:00, ?it/s]"
      ]
     },
     "metadata": {},
     "output_type": "display_data"
    },
    {
     "data": {
      "application/vnd.jupyter.widget-view+json": {
       "model_id": "",
       "version_major": 2,
       "version_minor": 0
      },
      "text/plain": [
       "Validation: 0it [00:00, ?it/s]"
      ]
     },
     "metadata": {},
     "output_type": "display_data"
    },
    {
     "data": {
      "application/vnd.jupyter.widget-view+json": {
       "model_id": "",
       "version_major": 2,
       "version_minor": 0
      },
      "text/plain": [
       "Validation: 0it [00:00, ?it/s]"
      ]
     },
     "metadata": {},
     "output_type": "display_data"
    },
    {
     "data": {
      "application/vnd.jupyter.widget-view+json": {
       "model_id": "",
       "version_major": 2,
       "version_minor": 0
      },
      "text/plain": [
       "Validation: 0it [00:00, ?it/s]"
      ]
     },
     "metadata": {},
     "output_type": "display_data"
    },
    {
     "data": {
      "application/vnd.jupyter.widget-view+json": {
       "model_id": "",
       "version_major": 2,
       "version_minor": 0
      },
      "text/plain": [
       "Validation: 0it [00:00, ?it/s]"
      ]
     },
     "metadata": {},
     "output_type": "display_data"
    },
    {
     "data": {
      "application/vnd.jupyter.widget-view+json": {
       "model_id": "",
       "version_major": 2,
       "version_minor": 0
      },
      "text/plain": [
       "Validation: 0it [00:00, ?it/s]"
      ]
     },
     "metadata": {},
     "output_type": "display_data"
    },
    {
     "data": {
      "application/vnd.jupyter.widget-view+json": {
       "model_id": "",
       "version_major": 2,
       "version_minor": 0
      },
      "text/plain": [
       "Validation: 0it [00:00, ?it/s]"
      ]
     },
     "metadata": {},
     "output_type": "display_data"
    },
    {
     "data": {
      "application/vnd.jupyter.widget-view+json": {
       "model_id": "",
       "version_major": 2,
       "version_minor": 0
      },
      "text/plain": [
       "Validation: 0it [00:00, ?it/s]"
      ]
     },
     "metadata": {},
     "output_type": "display_data"
    },
    {
     "data": {
      "application/vnd.jupyter.widget-view+json": {
       "model_id": "",
       "version_major": 2,
       "version_minor": 0
      },
      "text/plain": [
       "Validation: 0it [00:00, ?it/s]"
      ]
     },
     "metadata": {},
     "output_type": "display_data"
    },
    {
     "data": {
      "application/vnd.jupyter.widget-view+json": {
       "model_id": "",
       "version_major": 2,
       "version_minor": 0
      },
      "text/plain": [
       "Validation: 0it [00:00, ?it/s]"
      ]
     },
     "metadata": {},
     "output_type": "display_data"
    },
    {
     "data": {
      "application/vnd.jupyter.widget-view+json": {
       "model_id": "",
       "version_major": 2,
       "version_minor": 0
      },
      "text/plain": [
       "Validation: 0it [00:00, ?it/s]"
      ]
     },
     "metadata": {},
     "output_type": "display_data"
    },
    {
     "name": "stderr",
     "output_type": "stream",
     "text": [
      "LOCAL_RANK: 0 - CUDA_VISIBLE_DEVICES: [0]\n"
     ]
    },
    {
     "data": {
      "application/vnd.jupyter.widget-view+json": {
       "model_id": "d9c9f441fe77430e9d3284730d079871",
       "version_major": 2,
       "version_minor": 0
      },
      "text/plain": [
       "Predicting: 162it [00:00, ?it/s]"
      ]
     },
     "metadata": {},
     "output_type": "display_data"
    },
    {
     "name": "stderr",
     "output_type": "stream",
     "text": [
      "LOCAL_RANK: 0 - CUDA_VISIBLE_DEVICES: [0]\n"
     ]
    },
    {
     "data": {
      "application/vnd.jupyter.widget-view+json": {
       "model_id": "912b89a27b624a389231340b7af9f904",
       "version_major": 2,
       "version_minor": 0
      },
      "text/plain": [
       "Testing: 0it [00:00, ?it/s]"
      ]
     },
     "metadata": {},
     "output_type": "display_data"
    },
    {
     "data": {
      "text/html": [
       "<pre style=\"white-space:pre;overflow-x:auto;line-height:normal;font-family:Menlo,'DejaVu Sans Mono',consolas,'Courier New',monospace\">┏━━━━━━━━━━━━━━━━━━━━━━━━━━━┳━━━━━━━━━━━━━━━━━━━━━━━━━━━┳━━━━━━━━━━━━━━━━━━━━━━━━━━━┳━━━━━━━━━━━━━━━━━━━━━━━━━━━┓\n",
       "┃<span style=\"font-weight: bold\">        Test metric        </span>┃<span style=\"font-weight: bold\">       DataLoader 0        </span>┃<span style=\"font-weight: bold\">       DataLoader 1        </span>┃<span style=\"font-weight: bold\">       DataLoader 2        </span>┃\n",
       "┡━━━━━━━━━━━━━━━━━━━━━━━━━━━╇━━━━━━━━━━━━━━━━━━━━━━━━━━━╇━━━━━━━━━━━━━━━━━━━━━━━━━━━╇━━━━━━━━━━━━━━━━━━━━━━━━━━━┩\n",
       "│<span style=\"color: #008080; text-decoration-color: #008080\">    corr_coef_temp_var     </span>│<span style=\"color: #800080; text-decoration-color: #800080\">    0.7142813205718994     </span>│<span style=\"color: #800080; text-decoration-color: #800080\">    0.7579474449157715     </span>│<span style=\"color: #800080; text-decoration-color: #800080\">    0.7851200103759766     </span>│\n",
       "│<span style=\"color: #008080; text-decoration-color: #008080\">    loss_grad_temp_var     </span>│<span style=\"color: #800080; text-decoration-color: #800080\">    474.08404541015625     </span>│<span style=\"color: #800080; text-decoration-color: #800080\">     258.9123840332031     </span>│<span style=\"color: #800080; text-decoration-color: #800080\">       1318.16796875       </span>│\n",
       "│<span style=\"color: #008080; text-decoration-color: #008080\">     loss_val_temp_var     </span>│<span style=\"color: #800080; text-decoration-color: #800080\">     10.91286849975586     </span>│<span style=\"color: #800080; text-decoration-color: #800080\">    11.356195449829102     </span>│<span style=\"color: #800080; text-decoration-color: #800080\">    31.364906311035156     </span>│\n",
       "└───────────────────────────┴───────────────────────────┴───────────────────────────┴───────────────────────────┘\n",
       "</pre>\n"
      ],
      "text/plain": [
       "┏━━━━━━━━━━━━━━━━━━━━━━━━━━━┳━━━━━━━━━━━━━━━━━━━━━━━━━━━┳━━━━━━━━━━━━━━━━━━━━━━━━━━━┳━━━━━━━━━━━━━━━━━━━━━━━━━━━┓\n",
       "┃\u001b[1m \u001b[0m\u001b[1m       Test metric       \u001b[0m\u001b[1m \u001b[0m┃\u001b[1m \u001b[0m\u001b[1m      DataLoader 0       \u001b[0m\u001b[1m \u001b[0m┃\u001b[1m \u001b[0m\u001b[1m      DataLoader 1       \u001b[0m\u001b[1m \u001b[0m┃\u001b[1m \u001b[0m\u001b[1m      DataLoader 2       \u001b[0m\u001b[1m \u001b[0m┃\n",
       "┡━━━━━━━━━━━━━━━━━━━━━━━━━━━╇━━━━━━━━━━━━━━━━━━━━━━━━━━━╇━━━━━━━━━━━━━━━━━━━━━━━━━━━╇━━━━━━━━━━━━━━━━━━━━━━━━━━━┩\n",
       "│\u001b[36m \u001b[0m\u001b[36m   corr_coef_temp_var    \u001b[0m\u001b[36m \u001b[0m│\u001b[35m \u001b[0m\u001b[35m   0.7142813205718994    \u001b[0m\u001b[35m \u001b[0m│\u001b[35m \u001b[0m\u001b[35m   0.7579474449157715    \u001b[0m\u001b[35m \u001b[0m│\u001b[35m \u001b[0m\u001b[35m   0.7851200103759766    \u001b[0m\u001b[35m \u001b[0m│\n",
       "│\u001b[36m \u001b[0m\u001b[36m   loss_grad_temp_var    \u001b[0m\u001b[36m \u001b[0m│\u001b[35m \u001b[0m\u001b[35m   474.08404541015625    \u001b[0m\u001b[35m \u001b[0m│\u001b[35m \u001b[0m\u001b[35m    258.9123840332031    \u001b[0m\u001b[35m \u001b[0m│\u001b[35m \u001b[0m\u001b[35m      1318.16796875      \u001b[0m\u001b[35m \u001b[0m│\n",
       "│\u001b[36m \u001b[0m\u001b[36m    loss_val_temp_var    \u001b[0m\u001b[36m \u001b[0m│\u001b[35m \u001b[0m\u001b[35m    10.91286849975586    \u001b[0m\u001b[35m \u001b[0m│\u001b[35m \u001b[0m\u001b[35m   11.356195449829102    \u001b[0m\u001b[35m \u001b[0m│\u001b[35m \u001b[0m\u001b[35m   31.364906311035156    \u001b[0m\u001b[35m \u001b[0m│\n",
       "└───────────────────────────┴───────────────────────────┴───────────────────────────┴───────────────────────────┘\n"
      ]
     },
     "metadata": {},
     "output_type": "display_data"
    },
    {
     "data": {
      "text/html": [
       "<pre style=\"white-space:pre;overflow-x:auto;line-height:normal;font-family:Menlo,'DejaVu Sans Mono',consolas,'Courier New',monospace\">┏━━━━━━━━━━━━━━━━━━━━━━━━━━━┳━━━━━━━━━━━━━━━━━━━━━━━━━━━┳━━━━━━━━━━━━━━━━━━━━━━━━━━━┳━━━━━━━━━━━━━━━━━━━━━━━━━━━┓\n",
       "┃<span style=\"font-weight: bold\">        Test metric        </span>┃<span style=\"font-weight: bold\">       DataLoader 3        </span>┃<span style=\"font-weight: bold\">       DataLoader 4        </span>┃<span style=\"font-weight: bold\">       DataLoader 5        </span>┃\n",
       "┡━━━━━━━━━━━━━━━━━━━━━━━━━━━╇━━━━━━━━━━━━━━━━━━━━━━━━━━━╇━━━━━━━━━━━━━━━━━━━━━━━━━━━╇━━━━━━━━━━━━━━━━━━━━━━━━━━━┩\n",
       "│<span style=\"color: #008080; text-decoration-color: #008080\">    corr_coef_temp_var     </span>│<span style=\"color: #800080; text-decoration-color: #800080\">     0.804874837398529     </span>│<span style=\"color: #800080; text-decoration-color: #800080\">    0.5345508456230164     </span>│<span style=\"color: #800080; text-decoration-color: #800080\">    0.5986316204071045     </span>│\n",
       "│<span style=\"color: #008080; text-decoration-color: #008080\">    loss_grad_temp_var     </span>│<span style=\"color: #800080; text-decoration-color: #800080\">     391.7599792480469     </span>│<span style=\"color: #800080; text-decoration-color: #800080\">    239.28179931640625     </span>│<span style=\"color: #800080; text-decoration-color: #800080\">    215.95724487304688     </span>│\n",
       "│<span style=\"color: #008080; text-decoration-color: #008080\">     loss_val_temp_var     </span>│<span style=\"color: #800080; text-decoration-color: #800080\">    10.024372100830078     </span>│<span style=\"color: #800080; text-decoration-color: #800080\">     4.018875598907471     </span>│<span style=\"color: #800080; text-decoration-color: #800080\">    3.3815054893493652     </span>│\n",
       "└───────────────────────────┴───────────────────────────┴───────────────────────────┴───────────────────────────┘\n",
       "</pre>\n"
      ],
      "text/plain": [
       "┏━━━━━━━━━━━━━━━━━━━━━━━━━━━┳━━━━━━━━━━━━━━━━━━━━━━━━━━━┳━━━━━━━━━━━━━━━━━━━━━━━━━━━┳━━━━━━━━━━━━━━━━━━━━━━━━━━━┓\n",
       "┃\u001b[1m \u001b[0m\u001b[1m       Test metric       \u001b[0m\u001b[1m \u001b[0m┃\u001b[1m \u001b[0m\u001b[1m      DataLoader 3       \u001b[0m\u001b[1m \u001b[0m┃\u001b[1m \u001b[0m\u001b[1m      DataLoader 4       \u001b[0m\u001b[1m \u001b[0m┃\u001b[1m \u001b[0m\u001b[1m      DataLoader 5       \u001b[0m\u001b[1m \u001b[0m┃\n",
       "┡━━━━━━━━━━━━━━━━━━━━━━━━━━━╇━━━━━━━━━━━━━━━━━━━━━━━━━━━╇━━━━━━━━━━━━━━━━━━━━━━━━━━━╇━━━━━━━━━━━━━━━━━━━━━━━━━━━┩\n",
       "│\u001b[36m \u001b[0m\u001b[36m   corr_coef_temp_var    \u001b[0m\u001b[36m \u001b[0m│\u001b[35m \u001b[0m\u001b[35m    0.804874837398529    \u001b[0m\u001b[35m \u001b[0m│\u001b[35m \u001b[0m\u001b[35m   0.5345508456230164    \u001b[0m\u001b[35m \u001b[0m│\u001b[35m \u001b[0m\u001b[35m   0.5986316204071045    \u001b[0m\u001b[35m \u001b[0m│\n",
       "│\u001b[36m \u001b[0m\u001b[36m   loss_grad_temp_var    \u001b[0m\u001b[36m \u001b[0m│\u001b[35m \u001b[0m\u001b[35m    391.7599792480469    \u001b[0m\u001b[35m \u001b[0m│\u001b[35m \u001b[0m\u001b[35m   239.28179931640625    \u001b[0m\u001b[35m \u001b[0m│\u001b[35m \u001b[0m\u001b[35m   215.95724487304688    \u001b[0m\u001b[35m \u001b[0m│\n",
       "│\u001b[36m \u001b[0m\u001b[36m    loss_val_temp_var    \u001b[0m\u001b[36m \u001b[0m│\u001b[35m \u001b[0m\u001b[35m   10.024372100830078    \u001b[0m\u001b[35m \u001b[0m│\u001b[35m \u001b[0m\u001b[35m    4.018875598907471    \u001b[0m\u001b[35m \u001b[0m│\u001b[35m \u001b[0m\u001b[35m   3.3815054893493652    \u001b[0m\u001b[35m \u001b[0m│\n",
       "└───────────────────────────┴───────────────────────────┴───────────────────────────┴───────────────────────────┘\n"
      ]
     },
     "metadata": {},
     "output_type": "display_data"
    },
    {
     "data": {
      "text/html": [
       "<pre style=\"white-space:pre;overflow-x:auto;line-height:normal;font-family:Menlo,'DejaVu Sans Mono',consolas,'Courier New',monospace\">┏━━━━━━━━━━━━━━━━━━━━━━━━━━━┳━━━━━━━━━━━━━━━━━━━━━━━━━━━┓\n",
       "┃<span style=\"font-weight: bold\">        Test metric        </span>┃<span style=\"font-weight: bold\">       DataLoader 6        </span>┃\n",
       "┡━━━━━━━━━━━━━━━━━━━━━━━━━━━╇━━━━━━━━━━━━━━━━━━━━━━━━━━━┩\n",
       "│<span style=\"color: #008080; text-decoration-color: #008080\">    corr_coef_temp_var     </span>│<span style=\"color: #800080; text-decoration-color: #800080\">    0.7389957904815674     </span>│\n",
       "│<span style=\"color: #008080; text-decoration-color: #008080\">    loss_grad_temp_var     </span>│<span style=\"color: #800080; text-decoration-color: #800080\">      538.30126953125      </span>│\n",
       "│<span style=\"color: #008080; text-decoration-color: #008080\">     loss_val_temp_var     </span>│<span style=\"color: #800080; text-decoration-color: #800080\">    13.471725463867188     </span>│\n",
       "└───────────────────────────┴───────────────────────────┘\n",
       "</pre>\n"
      ],
      "text/plain": [
       "┏━━━━━━━━━━━━━━━━━━━━━━━━━━━┳━━━━━━━━━━━━━━━━━━━━━━━━━━━┓\n",
       "┃\u001b[1m \u001b[0m\u001b[1m       Test metric       \u001b[0m\u001b[1m \u001b[0m┃\u001b[1m \u001b[0m\u001b[1m      DataLoader 6       \u001b[0m\u001b[1m \u001b[0m┃\n",
       "┡━━━━━━━━━━━━━━━━━━━━━━━━━━━╇━━━━━━━━━━━━━━━━━━━━━━━━━━━┩\n",
       "│\u001b[36m \u001b[0m\u001b[36m   corr_coef_temp_var    \u001b[0m\u001b[36m \u001b[0m│\u001b[35m \u001b[0m\u001b[35m   0.7389957904815674    \u001b[0m\u001b[35m \u001b[0m│\n",
       "│\u001b[36m \u001b[0m\u001b[36m   loss_grad_temp_var    \u001b[0m\u001b[36m \u001b[0m│\u001b[35m \u001b[0m\u001b[35m     538.30126953125     \u001b[0m\u001b[35m \u001b[0m│\n",
       "│\u001b[36m \u001b[0m\u001b[36m    loss_val_temp_var    \u001b[0m\u001b[36m \u001b[0m│\u001b[35m \u001b[0m\u001b[35m   13.471725463867188    \u001b[0m\u001b[35m \u001b[0m│\n",
       "└───────────────────────────┴───────────────────────────┘\n"
      ]
     },
     "metadata": {},
     "output_type": "display_data"
    },
    {
     "data": {
      "text/html": [
       "Waiting for W&B process to finish... <strong style=\"color:green\">(success).</strong>"
      ],
      "text/plain": [
       "<IPython.core.display.HTML object>"
      ]
     },
     "metadata": {},
     "output_type": "display_data"
    },
    {
     "data": {
      "text/html": [
       "<style>\n",
       "    table.wandb td:nth-child(1) { padding: 0 10px; text-align: left ; width: auto;} td:nth-child(2) {text-align: left ; width: 100%}\n",
       "    .wandb-row { display: flex; flex-direction: row; flex-wrap: wrap; justify-content: flex-start; width: 100% }\n",
       "    .wandb-col { display: flex; flex-direction: column; flex-basis: 100%; flex: 1; padding: 10px; }\n",
       "    </style>\n",
       "<div class=\"wandb-row\"><div class=\"wandb-col\"><h3>Run history:</h3><br/><table class=\"wandb\"><tr><td>corr_coef_temp_var/dataloader_idx_0</td><td>▁</td></tr><tr><td>corr_coef_temp_var/dataloader_idx_1</td><td>▁</td></tr><tr><td>corr_coef_temp_var/dataloader_idx_2</td><td>▁</td></tr><tr><td>corr_coef_temp_var/dataloader_idx_3</td><td>▁</td></tr><tr><td>corr_coef_temp_var/dataloader_idx_4</td><td>▁</td></tr><tr><td>corr_coef_temp_var/dataloader_idx_5</td><td>▁</td></tr><tr><td>corr_coef_temp_var/dataloader_idx_6</td><td>▁</td></tr><tr><td>epoch</td><td>▁▁▁▁▂▂▂▂▃▃▃▃▄▄▄▄▅▅▅▅▅▅▆▆▆▆▇▇▇▇███</td></tr><tr><td>first_weight</td><td>▁▃▅▆▆▇▇▇████████</td></tr><tr><td>loss_grad_temp_var/dataloader_idx_0</td><td>▁</td></tr><tr><td>loss_grad_temp_var/dataloader_idx_1</td><td>▁</td></tr><tr><td>loss_grad_temp_var/dataloader_idx_2</td><td>▁</td></tr><tr><td>loss_grad_temp_var/dataloader_idx_3</td><td>▁</td></tr><tr><td>loss_grad_temp_var/dataloader_idx_4</td><td>▁</td></tr><tr><td>loss_grad_temp_var/dataloader_idx_5</td><td>▁</td></tr><tr><td>loss_grad_temp_var/dataloader_idx_6</td><td>▁</td></tr><tr><td>loss_train</td><td>██▃▇▁▅▄▅▅█▅▄▆▃▃▁</td></tr><tr><td>loss_val_temp_var/dataloader_idx_0</td><td>▁</td></tr><tr><td>loss_val_temp_var/dataloader_idx_1</td><td>▁</td></tr><tr><td>loss_val_temp_var/dataloader_idx_2</td><td>▁</td></tr><tr><td>loss_val_temp_var/dataloader_idx_3</td><td>▁</td></tr><tr><td>loss_val_temp_var/dataloader_idx_4</td><td>▁</td></tr><tr><td>loss_val_temp_var/dataloader_idx_5</td><td>▁</td></tr><tr><td>loss_val_temp_var/dataloader_idx_6</td><td>▁</td></tr><tr><td>loss_validation</td><td>█▄▃▂▁▁▁▁▁▁▁▁▁▁▁▁</td></tr><tr><td>trainer/global_step</td><td>▁▁▁▁▁▂▂▂▂▃▃▃▃▄▄▄▄▄▅▅▅▅▆▆▆▆▇▇▇▇██████████</td></tr></table><br/></div><div class=\"wandb-col\"><h3>Run summary:</h3><br/><table class=\"wandb\"><tr><td>corr_coef_temp_var/dataloader_idx_0</td><td>0.71428</td></tr><tr><td>corr_coef_temp_var/dataloader_idx_1</td><td>0.75795</td></tr><tr><td>corr_coef_temp_var/dataloader_idx_2</td><td>0.78512</td></tr><tr><td>corr_coef_temp_var/dataloader_idx_3</td><td>0.80487</td></tr><tr><td>corr_coef_temp_var/dataloader_idx_4</td><td>0.53455</td></tr><tr><td>corr_coef_temp_var/dataloader_idx_5</td><td>0.59863</td></tr><tr><td>corr_coef_temp_var/dataloader_idx_6</td><td>0.739</td></tr><tr><td>epoch</td><td>16</td></tr><tr><td>first_weight</td><td>0.13212</td></tr><tr><td>loss_grad_temp_var/dataloader_idx_0</td><td>474.08405</td></tr><tr><td>loss_grad_temp_var/dataloader_idx_1</td><td>258.91238</td></tr><tr><td>loss_grad_temp_var/dataloader_idx_2</td><td>1318.16797</td></tr><tr><td>loss_grad_temp_var/dataloader_idx_3</td><td>391.75998</td></tr><tr><td>loss_grad_temp_var/dataloader_idx_4</td><td>239.2818</td></tr><tr><td>loss_grad_temp_var/dataloader_idx_5</td><td>215.95724</td></tr><tr><td>loss_grad_temp_var/dataloader_idx_6</td><td>538.30127</td></tr><tr><td>loss_train</td><td>0.02967</td></tr><tr><td>loss_val_temp_var/dataloader_idx_0</td><td>10.91287</td></tr><tr><td>loss_val_temp_var/dataloader_idx_1</td><td>11.3562</td></tr><tr><td>loss_val_temp_var/dataloader_idx_2</td><td>31.36491</td></tr><tr><td>loss_val_temp_var/dataloader_idx_3</td><td>10.02437</td></tr><tr><td>loss_val_temp_var/dataloader_idx_4</td><td>4.01888</td></tr><tr><td>loss_val_temp_var/dataloader_idx_5</td><td>3.38151</td></tr><tr><td>loss_val_temp_var/dataloader_idx_6</td><td>13.47173</td></tr><tr><td>loss_validation</td><td>0.02804</td></tr><tr><td>trainer/global_step</td><td>2592</td></tr></table><br/></div></div>"
      ],
      "text/plain": [
       "<IPython.core.display.HTML object>"
      ]
     },
     "metadata": {},
     "output_type": "display_data"
    },
    {
     "data": {
      "text/html": [
       " View run <strong style=\"color:#cdcd00\">LinReg_test</strong> at: <a href='https://wandb.ai/anagorb63/geoTrainFlow/runs/LinReg_test' target=\"_blank\">https://wandb.ai/anagorb63/geoTrainFlow/runs/LinReg_test</a><br/>Synced 6 W&B file(s), 7 media file(s), 2 artifact file(s) and 0 other file(s)"
      ],
      "text/plain": [
       "<IPython.core.display.HTML object>"
      ]
     },
     "metadata": {},
     "output_type": "display_data"
    },
    {
     "data": {
      "text/html": [
       "Find logs at: <code>./wandb/run-20230505_114642-LinReg_test/logs</code>"
      ],
      "text/plain": [
       "<IPython.core.display.HTML object>"
      ]
     },
     "metadata": {},
     "output_type": "display_data"
    },
    {
     "data": {
      "image/png": "[encoded data removed]",
      "text/plain": [
       "<Figure size 500x250 with 3 Axes>"
      ]
     },
     "metadata": {},
     "output_type": "display_data"
    },
    {
     "data": {
      "image/png": "[encoded data removed]",
      "text/plain": [
       "<Figure size 500x250 with 3 Axes>"
      ]
     },
     "metadata": {},
     "output_type": "display_data"
    },
    {
     "data": {
      "image/png": "[encoded data removed]",
      "text/plain": [
       "<Figure size 500x250 with 3 Axes>"
      ]
     },
     "metadata": {},
     "output_type": "display_data"
    },
    {
     "data": {
      "image/png": "[encoded data removed]",
      "text/plain": [
       "<Figure size 500x250 with 3 Axes>"
      ]
     },
     "metadata": {},
     "output_type": "display_data"
    },
    {
     "data": {
      "image/png": "[encoded data removed]",
      "text/plain": [
       "<Figure size 500x250 with 3 Axes>"
      ]
     },
     "metadata": {},
     "output_type": "display_data"
    },
    {
     "data": {
      "image/png": "[encoded data removed]",
      "text/plain": [
       "<Figure size 500x250 with 3 Axes>"
      ]
     },
     "metadata": {},
     "output_type": "display_data"
    },
    {
     "data": {
      "image/png": "[encoded data removed]",
      "text/plain": [
       "<Figure size 500x250 with 3 Axes>"
      ]
     },
     "metadata": {},
     "output_type": "display_data"
    }
   ],
   "source": [
    "configs.append(dict({'model_label' : 'LinReg',\n",
    "                'version' : 'test',\n",
    "                'torch_model' : 'lin_regr_model',\n",
    "                'datamodule' : 'all_data_2D',\n",
    "                'torch_model_params' : dict({'data_geometry' : '2D',\\\n",
    "                                            'nb_of_input_features' : 1, \\\n",
    "                                            'nb_of_output_features' : 1}),\n",
    "                'experiment_params' : dict({'input_features'  : ['diff_temp_sqr'],\n",
    "                                        'output_features'  : ['temp_var'],\n",
    "                                        'output_units' : None,\n",
    "                                        'loss' : torch.nn.functional.huber_loss,\n",
    "                                        'optimizer' : torch.optim.SGD,\n",
    "                                        'learning_rate' : 1e-3,\n",
    "                                        'loss_normalization' : False}),\n",
    "                'training_params' : dict({'max_epochs' : 100,\n",
    "                                          'limit_train_batches' : 1.0})\n",
    "               }))\n",
    "run_experiment(configs[-1], project_name)"
   ]
  },
  {
   "cell_type": "markdown",
   "id": "3bb75fab-8a76-49eb-b102-5b3d71e2f405",
   "metadata": {},
   "source": [
    "## FCNN"
   ]
  },
  {
   "cell_type": "code",
   "execution_count": null,
   "id": "b2dcd2ab-1962-48ea-a229-d7b696bd21a6",
   "metadata": {},
   "outputs": [],
   "source": [
    "# configs.append(dict({'model_label' : 'FCNN',\n",
    "#                 'version' : '3D_patch3-3_MSELoss_inNorm_outnondim',\n",
    "#                 'torch_model' : 'FCNN',\n",
    "#                 'datamodule' : 'all_data_3D',\n",
    "#                 'torch_model_params' : dict({'data_geometry' : '3D',\\\n",
    "#                                             'nb_of_input_features' : 1, \\\n",
    "#                                             'nb_of_output_features' : 1, \\\n",
    "#                                             'input_patch_size' : 3,\n",
    "#                                             'output_patch_size' : 3, \n",
    "#                                             'int_layer_width' : 50}),\n",
    "#                 'module_params' : dict({'input_features'  : ['temp'],\n",
    "#                                         'output_features'  : ['temp_var'],\n",
    "#                                         'output_units' : ['diff_temp_sqr'],\n",
    "#                                         'input_normalization_features' : ['sqrt_filtered_diff_temp_sqr'],\n",
    "#                                         'loss' : torch.nn.functional.mse_loss,\n",
    "#                                         'optimizer' : torch.optim.Adam,\n",
    "#                                         'learning_rate' : 1e-4,\n",
    "#                                         'loss_normalization' : False}),\n",
    "#                 'training_params' : dict({'max_epochs' : 100,\n",
    "#                                           'limit_train_batches' : 1.0})\n",
    "#                }))\n",
    "# run_experiment(configs[-1], project_name)"
   ]
  },
  {
   "cell_type": "markdown",
   "id": "0ebdae86-7838-4dee-b04c-ff1517295f38",
   "metadata": {},
   "source": [
    "## CNN"
   ]
  },
  {
   "cell_type": "code",
   "execution_count": null,
   "id": "03ae0cb6-5f22-422d-8d0b-32b81b7328c0",
   "metadata": {},
   "outputs": [],
   "source": [
    "# configs.append(dict({'model_label' : 'CNN',\n",
    "#                 'version' : 'kernel3_MSELossNorm_inNorm_outnondim',\n",
    "#                 'torch_model' : 'CNN',\n",
    "#                 'datamodule' : 'all_data_3D',\n",
    "#                 'torch_model_params' : dict({'data_geometry' : '3D',\\\n",
    "#                                             'nb_of_input_features' : 1, \\\n",
    "#                                             'nb_of_output_features' : 1, \\\n",
    "#                                             'kernel_size' : 3,\n",
    "#                                             'int_layer_width' : 64}),\n",
    "#                 'module_params' : dict({'input_features'  : ['temp'],\n",
    "#                                         'output_features'  : ['temp_var'],\n",
    "#                                         'output_units' : ['diff_temp_sqr'],\n",
    "#                                         'input_normalization_features' : ['sqrt_filtered_diff_temp_sqr'],\n",
    "#                                         'loss' : torch.nn.functional.mse_loss,\n",
    "#                                         'optimizer' : torch.optim.Adam,\n",
    "#                                         'learning_rate' : 1e-3,\n",
    "#                                         'loss_normalization' : True}),\n",
    "#                 'training_params' : dict({'max_epochs' : 100,\n",
    "#                                           'limit_train_batches' : 1.0})\n",
    "#                }))\n",
    "# run_experiment(configs[-1], project_name)"
   ]
  },
  {
   "cell_type": "markdown",
   "id": "3b95e9e0-b5c0-4b1d-8e7f-9b26391c1098",
   "metadata": {},
   "source": [
    "# Check the metrics and tests"
   ]
  },
  {
   "cell_type": "markdown",
   "id": "9c2420d4-6618-4815-b380-83d05a80e522",
   "metadata": {},
   "source": [
    "The metrics monitored during the training and after-training tests results can be found on https://wandb.ai/anagorb63/tests?workspace=user-anagorb63"
   ]
  }
 ],
 "metadata": {
  "kernelspec": {
   "display_name": "Python 3 (ipykernel)",
   "language": "python",
   "name": "python3"
  },
  "language_info": {
   "codemirror_mode": {
    "name": "ipython",
    "version": 3
   },
   "file_extension": ".py",
   "mimetype": "text/x-python",
   "name": "python",
   "nbconvert_exporter": "python",
   "pygments_lexer": "ipython3",
   "version": "3.10.9"
  }
 },
 "nbformat": 4,
 "nbformat_minor": 5
}
