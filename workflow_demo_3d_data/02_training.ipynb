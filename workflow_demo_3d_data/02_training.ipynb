{
 "cells": [
  {
   "cell_type": "code",
   "execution_count": 2,
   "id": "dcb7152a-adfe-4999-8ca0-77e6536009a2",
   "metadata": {},
   "outputs": [
    {
     "name": "stdout",
     "output_type": "stream",
     "text": [
      "Note: you may need to restart the kernel to use updated packages.\n"
     ]
    }
   ],
   "source": [
    "pip install wandb -q"
   ]
  },
  {
   "cell_type": "code",
   "execution_count": 3,
   "id": "d8ba7208-cab9-43c3-89f8-91b2838d1784",
   "metadata": {},
   "outputs": [],
   "source": [
    "from dask.distributed import Client\n",
    "\n",
    "client = Client(\"tcp://127.0.0.1:35703\")"
   ]
  },
  {
   "cell_type": "markdown",
   "id": "c36532fb-c2ed-43b3-8bd0-7c1086407d8a",
   "metadata": {},
   "source": [
    "# Import"
   ]
  },
  {
   "cell_type": "code",
   "execution_count": 4,
   "id": "07708f7a-4d51-459b-ac79-fe856c93a8cc",
   "metadata": {},
   "outputs": [],
   "source": [
    "import numpy as np\n",
    "import xarray as xr\n",
    "import torch\n",
    "import pytorch_lightning as pl\n",
    "from scipy import ndimage\n",
    "import itertools\n",
    "import os\n",
    "from pytorch_lightning.loggers import WandbLogger\n",
    "import wandb\n",
    "from pytorch_lightning.callbacks import EarlyStopping,ModelCheckpoint,Callback\n",
    "import myParam\n",
    "import matplotlib.pyplot as plt"
   ]
  },
  {
   "cell_type": "code",
   "execution_count": 5,
   "id": "bf9717e6-2e96-4ad4-bc6e-2490ad6ee7e5",
   "metadata": {},
   "outputs": [
    {
     "name": "stdout",
     "output_type": "stream",
     "text": [
      "Linux-5.10.133+-x86_64-with-glibc2.35\n"
     ]
    }
   ],
   "source": [
    "import platform\n",
    "print(platform.platform())"
   ]
  },
  {
   "cell_type": "code",
   "execution_count": 6,
   "id": "bf23faa3-d7e0-4a71-bf09-67a11edff645",
   "metadata": {},
   "outputs": [
    {
     "name": "stdout",
     "output_type": "stream",
     "text": [
      "1.13.1.post200\n"
     ]
    }
   ],
   "source": [
    "print(torch.__version__)"
   ]
  },
  {
   "cell_type": "code",
   "execution_count": 7,
   "id": "8d23fce9-db7f-4af5-926b-085a045bc183",
   "metadata": {},
   "outputs": [],
   "source": [
    "import warnings\n",
    "\n",
    "warnings.simplefilter(action='ignore', category=FutureWarning)\n",
    "warnings.filterwarnings(\"ignore\", \".*Consider increasing the value of the `num_workers` argument*\")"
   ]
  },
  {
   "cell_type": "code",
   "execution_count": 8,
   "id": "bd59d6c6-f6d4-4e66-a28b-24498138c634",
   "metadata": {},
   "outputs": [],
   "source": [
    "import importlib"
   ]
  },
  {
   "cell_type": "code",
   "execution_count": 9,
   "id": "25838b91-9cc2-47e8-a6b9-96068624f037",
   "metadata": {},
   "outputs": [
    {
     "data": {
      "text/plain": [
       "<module 'myParam' from '/home/jovyan/oceanDataNotebooks/parametrization_NN/myParam.py'>"
      ]
     },
     "execution_count": 9,
     "metadata": {},
     "output_type": "execute_result"
    }
   ],
   "source": [
    "importlib.reload(myParam)"
   ]
  },
  {
   "cell_type": "markdown",
   "id": "6c33c792-b54c-46ab-8257-4a3233c69083",
   "metadata": {},
   "source": [
    "## Open data"
   ]
  },
  {
   "cell_type": "code",
   "execution_count": 10,
   "id": "76db4448-d28a-4270-bb64-6de61cd4e044",
   "metadata": {},
   "outputs": [],
   "source": [
    "PERSISTENT_BUCKET = os.environ['PERSISTENT_BUCKET'] "
   ]
  },
  {
   "cell_type": "code",
   "execution_count": 11,
   "id": "30f449a2-50f9-494d-bf4c-77f853392e10",
   "metadata": {},
   "outputs": [],
   "source": [
    "data_dict=[dict() for i in range(6)]\n",
    "data_dict[0] = dict({'region' : '1', 'season' : 'fma', 'label' : 'GULFSTR FMA'})\n",
    "data_dict[1] = dict({'region' : '1', 'season' : 'aso', 'label' : 'GULFSTR ASO'})\n",
    "data_dict[2] = dict({'region' : '2', 'season' : 'fma', 'label' : 'MIDATL FMA'})\n",
    "data_dict[3] = dict({'region' : '2', 'season' : 'aso', 'label' : 'MIDATL ASO'})\n",
    "data_dict[4] = dict({'region' : '3', 'season' : 'fma', 'label' : 'WESTMED FMA'})\n",
    "data_dict[5] = dict({'region' : '3', 'season' : 'aso', 'label' : 'WESTMED ASO'})"
   ]
  },
  {
   "cell_type": "code",
   "execution_count": 12,
   "id": "7aa0e4b6-6c0d-4cce-95c0-223506fa3928",
   "metadata": {},
   "outputs": [],
   "source": [
    "batch_size = 4\n",
    "height = 45\n",
    "width = 40"
   ]
  },
  {
   "cell_type": "code",
   "execution_count": 13,
   "id": "34bb9812-17c9-41ee-83d6-46221e925bdd",
   "metadata": {},
   "outputs": [
    {
     "name": "stdout",
     "output_type": "stream",
     "text": [
      "CPU times: user 16.5 s, sys: 2.36 s, total: 18.8 s\n",
      "Wall time: 1min 38s\n"
     ]
    }
   ],
   "source": [
    "%%time\n",
    "features_to_add_to_sample = ['temp', 'temp_var', 'rho_ct_ct', 'diff_temp_sqr']\n",
    "auxiliary_features = ['z_l', 'f', 'e1t', 'e2t']\n",
    "all_data_3D = myParam.PyLiDataModule(data_dict, '3D', features_to_add_to_sample, auxiliary_features, height, width, batch_size=batch_size)"
   ]
  },
  {
   "cell_type": "code",
   "execution_count": 14,
   "id": "b42b115b-6c02-4dd4-8e95-4059c37b917b",
   "metadata": {},
   "outputs": [
    {
     "name": "stdout",
     "output_type": "stream",
     "text": [
      "CPU times: user 1.92 s, sys: 262 ms, total: 2.18 s\n",
      "Wall time: 14.4 s\n"
     ]
    }
   ],
   "source": [
    "%%time\n",
    "features_to_add_to_sample = ['temp', 'temp_var', 'rho_ct_ct', 'diff_temp_sqr']\n",
    "auxiliary_features = ['e1t', 'e2t']\n",
    "all_data_2D = myParam.PyLiDataModule(data_dict, '2D', features_to_add_to_sample, auxiliary_features, height, width, batch_size=batch_size)"
   ]
  },
  {
   "cell_type": "code",
   "execution_count": null,
   "id": "1c71bf7a-9728-4235-a85e-a6c03599113e",
   "metadata": {},
   "outputs": [],
   "source": [
    "def run_experiment(config, project) :\n",
    "    wandb_logger = WandbLogger(name=config['model_label']+'_'+config['version'], \\\n",
    "                               version=config['model_label']+'_'+config['version'],\\\n",
    "                               project=project, config=config, resume=False, log_model=True, offline=False)\n",
    "    \n",
    "    torch_model = eval(config['torch_model'])(**config['torch_model_params'])\n",
    "    pylight_module = myParam.GenericPyLiModule(torch_model, **config['module_params'])\n",
    "    \n",
    "    # Callbacks\n",
    "    checkpoint_callback = ModelCheckpoint(monitor=\"loss_train\", save_last=True)    \n",
    "    early_stopping_callback = EarlyStopping(monitor=\"loss_validation\", mode=\"min\")\n",
    "    log_predictions_callback = LogPredictionsCallback(wandb_logger, config['module_params']['output_features'][0])\n",
    "    \n",
    "    trainer = pl.Trainer(**config['training_params'], logger=wandb_logger, \n",
    "                     callbacks=[early_stopping_callback, checkpoint_callback,log_predictions_callback],\n",
    "                     accelerator='gpu', devices=(1 if torch.cuda.is_available() else None))  \n",
    "    trainer.fit(model = pylight_module, datamodule=eval(config['datamodule']))\n",
    "    #perform tests\n",
    "    test_datamodule = eval(config['datamodule'])\n",
    "    test_datamodule.setup(stage='test')\n",
    "    trainer.predict(model = pylight_module, dataloaders=test_datamodule.test_dataloader())\n",
    "    test_datamodule.setup(stage='test')\n",
    "    trainer.test(model = pylight_module, datamodule=test_datamodule)\n",
    "    wandb.finish()"
   ]
  },
  {
   "cell_type": "markdown",
   "id": "bb222872-8f0c-49b1-a4bb-609b91832511",
   "metadata": {},
   "source": [
    "# Runs"
   ]
  },
  {
   "cell_type": "code",
   "execution_count": 21,
   "id": "6dcb94fb-1f4c-44fc-a746-fd938e31bceb",
   "metadata": {},
   "outputs": [],
   "source": [
    "wandb.finish()"
   ]
  },
  {
   "cell_type": "code",
   "execution_count": 22,
   "id": "62aaf6ff-5b20-46a9-833c-a3d7326f87a1",
   "metadata": {},
   "outputs": [],
   "source": [
    "project_name = 'tests'"
   ]
  },
  {
   "cell_type": "code",
   "execution_count": 23,
   "id": "75b0cd12-568c-476e-afdd-07955bd75a77",
   "metadata": {},
   "outputs": [],
   "source": [
    "configs = list()"
   ]
  },
  {
   "cell_type": "markdown",
   "id": "fdb6e82b-a269-45fe-95f0-bad0b35389f3",
   "metadata": {},
   "source": [
    "## Linear regression"
   ]
  },
  {
   "cell_type": "code",
   "execution_count": null,
   "id": "3cebc87e-7278-4bdf-a1f1-a65f2b48d45a",
   "metadata": {},
   "outputs": [],
   "source": [
    "configs.append(dict({'model_label' : 'LinReg',\n",
    "                'version' : 'HuberLoss2D_nn',\n",
    "                'torch_model' : 'myParam.lin_regr_model',\n",
    "                'datamodule' : 'all_data_2D',\n",
    "                'torch_model_params' : dict({'data_geometry' : '2D',\\\n",
    "                                            'nb_of_input_features' : 1, \\\n",
    "                                            'nb_of_output_features' : 1}),\n",
    "                'module_params' : dict({'input_features'  : ['diff_temp_sqr'],\n",
    "                                        'output_features'  : ['temp_var'],\n",
    "                                        'output_units' : None,\n",
    "                                        'loss' : torch.nn.functional.huber_loss,\n",
    "                                        'optimizer' : torch.optim.SGD,\n",
    "                                        'learning_rate' : 1e-3,\n",
    "                                        'loss_normalization' : False}),\n",
    "                'training_params' : dict({'max_epochs' : 100,\n",
    "                                          'limit_train_batches' : 1.0})\n",
    "               }))\n",
    "run_experiment(configs[-1], project_name)"
   ]
  },
  {
   "cell_type": "markdown",
   "id": "3bb75fab-8a76-49eb-b102-5b3d71e2f405",
   "metadata": {},
   "source": [
    "## FCNN"
   ]
  },
  {
   "cell_type": "code",
   "execution_count": null,
   "id": "b2dcd2ab-1962-48ea-a229-d7b696bd21a6",
   "metadata": {},
   "outputs": [],
   "source": [
    "configs.append(dict({'model_label' : 'FCNN',\n",
    "                'version' : '3D_patch3-3_MSELoss_inNorm_outnondim',\n",
    "                'torch_model' : 'myParam.FCNN',\n",
    "                'datamodule' : 'all_data_3D',\n",
    "                'torch_model_params' : dict({'data_geometry' : '3D',\\\n",
    "                                            'nb_of_input_features' : 1, \\\n",
    "                                            'nb_of_output_features' : 1, \\\n",
    "                                            'input_patch_size' : 3,\n",
    "                                            'output_patch_size' : 3, \n",
    "                                            'int_layer_width' : 50}),\n",
    "                'module_params' : dict({'input_features'  : ['temp'],\n",
    "                                        'output_features'  : ['temp_var'],\n",
    "                                        'output_units' : ['diff_temp_sqr'],\n",
    "                                        'input_normalization_features' : ['sqrt_filtered_diff_temp_sqr'],\n",
    "                                        'loss' : torch.nn.functional.mse_loss,\n",
    "                                        'optimizer' : torch.optim.Adam,\n",
    "                                        'learning_rate' : 1e-4,\n",
    "                                        'loss_normalization' : False}),\n",
    "                'training_params' : dict({'max_epochs' : 100,\n",
    "                                          'limit_train_batches' : 1.0})\n",
    "               }))\n",
    "run_experiment(configs[-1], project_name)"
   ]
  },
  {
   "cell_type": "markdown",
   "id": "0ebdae86-7838-4dee-b04c-ff1517295f38",
   "metadata": {},
   "source": [
    "## CNN"
   ]
  },
  {
   "cell_type": "code",
   "execution_count": null,
   "id": "03ae0cb6-5f22-422d-8d0b-32b81b7328c0",
   "metadata": {},
   "outputs": [],
   "source": [
    "configs.append(dict({'model_label' : 'CNN',\n",
    "                'version' : 'kernel3_MSELossNorm_inNorm_outnondim',\n",
    "                'torch_model' : 'myParam.CNN',\n",
    "                'datamodule' : 'all_data_3D',\n",
    "                'torch_model_params' : dict({'data_geometry' : '3D',\\\n",
    "                                            'nb_of_input_features' : 1, \\\n",
    "                                            'nb_of_output_features' : 1, \\\n",
    "                                            'kernel_size' : 3,\n",
    "                                            'int_layer_width' : 64}),\n",
    "                'module_params' : dict({'input_features'  : ['temp'],\n",
    "                                        'output_features'  : ['temp_var'],\n",
    "                                        'output_units' : ['diff_temp_sqr'],\n",
    "                                        'input_normalization_features' : ['sqrt_filtered_diff_temp_sqr'],\n",
    "                                        'loss' : torch.nn.functional.mse_loss,\n",
    "                                        'optimizer' : torch.optim.Adam,\n",
    "                                        'learning_rate' : 1e-3,\n",
    "                                        'loss_normalization' : True}),\n",
    "                'training_params' : dict({'max_epochs' : 100,\n",
    "                                          'limit_train_batches' : 1.0})\n",
    "               }))\n",
    "run_experiment(configs[-1], project_name)"
   ]
  },
  {
   "cell_type": "markdown",
   "id": "3b95e9e0-b5c0-4b1d-8e7f-9b26391c1098",
   "metadata": {},
   "source": [
    "# Check the metrics and tests"
   ]
  },
  {
   "cell_type": "markdown",
   "id": "9c2420d4-6618-4815-b380-83d05a80e522",
   "metadata": {},
   "source": [
    "The metrics monitored during the training and after-training tests results can be found on https://wandb.ai/anagorb63/tests?workspace=user-anagorb63"
   ]
  }
 ],
 "metadata": {
  "kernelspec": {
   "display_name": "Python 3 (ipykernel)",
   "language": "python",
   "name": "python3"
  },
  "language_info": {
   "codemirror_mode": {
    "name": "ipython",
    "version": 3
   },
   "file_extension": ".py",
   "mimetype": "text/x-python",
   "name": "python",
   "nbconvert_exporter": "python",
   "pygments_lexer": "ipython3",
   "version": "3.10.9"
  }
 },
 "nbformat": 4,
 "nbformat_minor": 5
}
